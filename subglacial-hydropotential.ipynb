{
 "cells": [
  {
   "cell_type": "markdown",
   "id": "efebafdf-052e-494a-a484-df11e624d64c",
   "metadata": {},
   "source": [
    "Notebook uses BedMachine Antarctica ice-surface and bed topographies to calculate and export subglacial hydropotential using the Shreve (1972) hydropotential equation.\n",
    "\n",
    "Written 2025/07/19 by W. Sauthoff (wsauthoff.github.io) and M. R. Siegfried (mrsiegfried.github.io)."
   ]
  },
  {
   "cell_type": "markdown",
   "id": "2882be40-6fe2-4c92-8aad-a3ec56869d3c",
   "metadata": {},
   "source": [
    "# Setup computing environment"
   ]
  },
  {
   "cell_type": "code",
   "execution_count": null,
   "id": "2cab3523-6c42-4eaf-aaf8-87982e1f7fdb",
   "metadata": {},
   "outputs": [],
   "source": [
    "# Import packages\n",
    "import earthaccess\n",
    "import fsspec\n",
    "import json\n",
    "import matplotlib.pyplot as plt\n",
    "import matplotlib.ticker as ticker\n",
    "from mpl_toolkits.axes_grid1 import make_axes_locatable\n",
    "import numpy as np\n",
    "import os\n",
    "from pyproj import CRS\n",
    "import shutil\n",
    "import xarray as xr\n",
    "import zarr\n",
    "import zipfile\n",
    "\n",
    "os.makedirs('output', exist_ok = True)\n",
    "\n",
    "%matplotlib widget"
   ]
  },
  {
   "cell_type": "markdown",
   "id": "ea9cdd94-4d3c-486b-89e3-b1280cc1a623",
   "metadata": {},
   "source": [
    "# Access data"
   ]
  },
  {
   "cell_type": "code",
   "execution_count": null,
   "id": "b20178a3-5275-4236-8ed8-4f492bec89d7",
   "metadata": {},
   "outputs": [],
   "source": [
    "# Direct-access stream BedMachine Antarctica bed and surface topography v3 (Morlighem et al., 2020; Morlighem, 2022)\n",
    "# https://nsidc.org/data/NSIDC-0756\n",
    "try:\n",
    "    results = earthaccess.search_data(\n",
    "        doi='10.5067/FPSU0V1MWUB6',\n",
    "        cloud_hosted=True,\n",
    "        # bounding_box=(1, -89, -1, -89)\n",
    "    )\n",
    "    \n",
    "    if not results:\n",
    "        raise ValueError('No datasets found matching the search criteria')\n",
    "        \n",
    "    # Open data granules as s3 files to stream\n",
    "    files = earthaccess.open(results)\n",
    "    \n",
    "    # Check if files list is empty\n",
    "    if not files:\n",
    "        raise FileNotFoundError('No files were opened from the search results')\n",
    "        \n",
    "    # Check if first file exists/is valid\n",
    "    if isinstance(files[0], FileNotFoundError):\n",
    "        raise FileNotFoundError(f'Could not access file: {files[0]}')\n",
    "        \n",
    "    # Print file name to ensure expected dataset\n",
    "    print(f'Attempting to open: {files[0]}')\n",
    "    \n",
    "    # Open file into xarray dataset\n",
    "    bedmachine_original = xr.open_dataset(files[0], engine='netcdf4')\n",
    "    print('Dataset successfully loaded')\n",
    "\n",
    "except FileNotFoundError as e:\n",
    "    print(f'File access error: {e}')\n",
    "except ValueError as e:\n",
    "    print(f'Search error: {e}')\n",
    "except Exception as e:\n",
    "    print(f'Unexpected error: {e}')\n",
    "\n",
    "'''\n",
    "Note: Search error: can only read bytes or file-like objects with engine='scipy' or 'h5netcdf' seems to indicate FileNotFoundError\n",
    "'''"
   ]
  },
  {
   "cell_type": "code",
   "execution_count": null,
   "id": "a5300263-ab16-41f9-b7ce-1a743a9bf98c",
   "metadata": {},
   "outputs": [],
   "source": [
    "# Open local copy of file if streaming fails\n",
    "bedmachine_original = xr.open_dataset('/home/jovyan/temp/BedMachineAntarctica-v3.nc')\n",
    "bedmachine_original"
   ]
  },
  {
   "cell_type": "markdown",
   "id": "713ada33-5f16-4840-8acc-8a33d41fd77a",
   "metadata": {},
   "source": [
    "# Data analysis\n",
    "Use Shreve (1972) equation to calculate hydropotential using bed elevations and ice-surface elevations (less firn depth to get ice mass)."
   ]
  },
  {
   "cell_type": "code",
   "execution_count": null,
   "id": "434314d1-3eea-465d-a245-cff1d8361ae6",
   "metadata": {
    "tags": []
   },
   "outputs": [],
   "source": [
    "# Step 1: Compute hydropotential\n",
    "\n",
    "# Use BedMachine bed topography for Zbed and surface topography (less firn) for Zsurf\n",
    "\n",
    "# Define densities (rho) of ice and water\n",
    "rho_ice = 917\n",
    "rho_water = 997\n",
    "\n",
    "# Calculate hydropotential using Shreve, 1972 equation\n",
    "subglacial_hydropotential_kPa = (9.8 * ((rho_ice*(bedmachine_original['surface']-bedmachine_original['firn'])) + (rho_water-rho_ice)*bedmachine_original['bed'])) / 1e3\n",
    "\n",
    "# Display xarray.Dataset metadata\n",
    "subglacial_hydropotential_kPa"
   ]
  },
  {
   "cell_type": "code",
   "execution_count": null,
   "id": "0865a427-ed38-4ba4-be09-7988ec3d6576",
   "metadata": {},
   "outputs": [],
   "source": [
    "print(subglacial_hydropotential_kPa.min(), subglacial_hydropotential_kPa.max())"
   ]
  },
  {
   "cell_type": "code",
   "execution_count": null,
   "id": "c69c2bc4-4e6e-4f84-a9fb-e66265935373",
   "metadata": {},
   "outputs": [],
   "source": [
    "# Step 2: Mask to grounded ice only\n",
    "\n",
    "# Create a mask where values == 2 (grounded ice)\n",
    "grounded_ice_mask = (bedmachine_original['mask'] == 2)\n",
    "\n",
    "# Apply the mask to subglacial_hydropotential_kPa\n",
    "subglacial_hydropotential_kPa = subglacial_hydropotential_kPa.where(grounded_ice_mask)\n",
    "\n",
    "# Display xarray.Dataset metadata to ensure edges have become nan's\n",
    "subglacial_hydropotential_kPa"
   ]
  },
  {
   "cell_type": "code",
   "execution_count": null,
   "id": "6e4cc0ef-c3f1-4a89-bfba-32a6427c4216",
   "metadata": {},
   "outputs": [],
   "source": [
    "def get_data_extent_with_buffer(da, buffer_percent=0.05):\n",
    "    \"\"\"\n",
    "    Find the extent of non-NaN data and add a buffer.\n",
    "    \n",
    "    Parameters:\n",
    "    -----------\n",
    "    da : xarray.DataArray\n",
    "        The data array to analyze\n",
    "    buffer_percent : float\n",
    "        Buffer as a percentage of the data range (default 5%)\n",
    "    \n",
    "    Returns:\n",
    "    --------\n",
    "    tuple : (x_min, x_max, y_min, y_max) with buffer applied\n",
    "    \"\"\"\n",
    "    # Find where data is not NaN\n",
    "    valid_data = ~np.isnan(da)\n",
    "    \n",
    "    # Get coordinates where we have valid data\n",
    "    y_coords, x_coords = np.where(valid_data)\n",
    "    \n",
    "    if len(x_coords) == 0 or len(y_coords) == 0:\n",
    "        print(\"Warning: No valid data found!\")\n",
    "        return None\n",
    "    \n",
    "    # Convert array indices to actual coordinate values\n",
    "    x_values = da.coords[da.dims[1]].values  # assuming dims are [y, x]\n",
    "    y_values = da.coords[da.dims[0]].values\n",
    "\n",
    "    # Get the actual coordinate bounds where we have data\n",
    "    x_data_min = x_values.min()\n",
    "    x_data_max = x_values.max()\n",
    "    y_data_min = y_values.min()\n",
    "    y_data_max = y_values.max()\n",
    "    \n",
    "    # Calculate buffer\n",
    "    x_range = x_data_max - x_data_min\n",
    "    y_range = y_data_max - y_data_min\n",
    "    \n",
    "    x_buffer = x_range * buffer_percent\n",
    "    y_buffer = y_range * buffer_percent\n",
    "    \n",
    "    # Apply buffer\n",
    "    x_min = x_data_min - x_buffer\n",
    "    x_max = x_data_max + x_buffer\n",
    "    y_min = y_data_min - y_buffer\n",
    "    y_max = y_data_max + y_buffer\n",
    "    \n",
    "    return x_min, x_max, y_min, y_max\n",
    "\n",
    "# Get the data extent with 5% buffer\n",
    "extent = get_data_extent_with_buffer(subglacial_hydropotential_kPa, buffer_percent=0.01)\n",
    "\n",
    "if extent is not None:\n",
    "    x_min, x_max, y_min, y_max = extent\n",
    "    \n",
    "    # Plot results and save figure\n",
    "    fig, ax = plt.subplots(figsize=(10, 8))\n",
    "\n",
    "    # Use actual data range for asymmetric colorbar\n",
    "    data_min = float(subglacial_hydropotential_kPa.min())\n",
    "    data_max = float(subglacial_hydropotential_kPa.max())\n",
    "\n",
    "    # Create the plot\n",
    "    im = subglacial_hydropotential_kPa.plot(\n",
    "        ax=ax, \n",
    "        add_colorbar=False,\n",
    "        cmap='viridis',\n",
    "        vmin=data_min,\n",
    "        vmax=data_max\n",
    "    )\n",
    "\n",
    "    # Set the axis limits to clip to data extent + buffer\n",
    "    ax.set_xlim(x_min, x_max)\n",
    "    ax.set_ylim(y_min, y_max)\n",
    "    \n",
    "    # Format axes\n",
    "    ax.set_aspect('equal')\n",
    "    ax.set_axis_off()\n",
    "\n",
    "    # Create colorbar axes with same width as plot\n",
    "    divider = make_axes_locatable(ax)\n",
    "    cax = divider.append_axes('bottom', size='3%', pad=0.01)\n",
    "    \n",
    "    # Add colorbar with label\n",
    "    cbar = plt.colorbar(im, cax=cax, orientation='horizontal')\n",
    "    cbar.set_label('subglacial hydropotential [kPa]')\n",
    "    cbar.ax.tick_params(labelrotation=45)\n",
    "    \n",
    "    plt.tight_layout()\n",
    "    plt.show()\n",
    "\n",
    "    plt.savefig('output/subglacial-hydropotential-Antarctica.png', bbox_inches='tight')\n",
    "\n",
    "else:\n",
    "    print('Could not determine data extent - plotting without clipping')\n",
    "    # Fallback to original plot\n",
    "    fig, ax = plt.subplots(figsize=(10, 8))\n",
    "    im = subglacial_hydropotential_kPa.plot(ax=ax, add_colorbar=False, cmap='viridis')\n",
    "    ax.set_aspect('equal')\n",
    "    ax.set_axis_off()\n",
    "    divider = make_axes_locatable(ax)\n",
    "    cax = divider.append_axes('bottom', size='3%', pad=0.01)\n",
    "    cbar = plt.colorbar(im, cax=cax, orientation='horizontal')\n",
    "    cbar.set_label('subglacial hydropotential [kPa]')\n",
    "    cbar.ax.tick_params(labelrotation=45)\n",
    "    plt.tight_layout()\n",
    "    plt.show()\n",
    "\n",
    "    plt.savefig('output/subglacial-hydropotential-Antarctica.png', bbox_inches='tight')"
   ]
  },
  {
   "cell_type": "markdown",
   "id": "c0ad5068-1427-4312-a9d6-ce1cbef5e972",
   "metadata": {},
   "source": [
    "# Export hydropotental dataset"
   ]
  },
  {
   "cell_type": "code",
   "execution_count": null,
   "id": "7d9634b4-14c8-4682-808b-2cb64fdf7bed",
   "metadata": {},
   "outputs": [],
   "source": [
    "# Add metadata\n",
    "subglacial_hydropotential_kPa.attrs = {\n",
    "    'long_name': 'hydropotential',\n",
    "    'units': 'kPa',\n",
    "    'ice_density' : 917.0,\n",
    "    'ice_density_units': 'kg m-3',\n",
    "    'freshwater_density' : 997.0,\n",
    "    'freshwater_density_units': 'kg m-3',\n",
    "}\n",
    "\n",
    "# Convert to dataset for chucking with Zarr\n",
    "ds = subglacial_hydropotential_kPa.to_dataset(name='hydropotential')\n",
    "\n",
    "# Add metadata\n",
    "ds.attrs = {\n",
    "    'conventions': 'CF-1.8',\n",
    "    'title': 'Antarctic subglacial hydropotential derived from BedMachine Antarctica',\n",
    "    'description': 'Antarctic subglacial gridded hydropotential calculated using Shreve (1972) equation using BedMachine Antarctica v3 bed and ice topographies and firn air content (Morlighem et al., 2020; Morlighem, 2022).',\n",
    "    'history': 'Created 2025-07-19',\n",
    "    # 'identifier_product_DOI': 'doi:',  # Will be assigned upon first release with Zenodo\n",
    "    # 'citation': 'Sauthoff, W. & Siegfried, M. R. (2025). Antarctic subglacial hydropotential [Data set]. Zenodo. https://doi.org/XX',\n",
    "    'license': 'CC BY-SA 4.0',\n",
    "    'region': 'Antarctica'\n",
    "}\n",
    "\n",
    "# # Copy mapping variable into new dataset\n",
    "# ds['mapping'] = bedmachine_original['mapping']\n",
    "\n",
    "# Copy mapping variable into new dataset as variable with zero dimensions\n",
    "mapping_attrs = bedmachine_original['mapping'].attrs\n",
    "ds['mapping'] = xr.DataArray(np.array(0, dtype=np.int32), attrs=mapping_attrs)\n",
    "\n",
    "# Link the mapping variable to variable\n",
    "ds['hydropotential'].attrs['grid_mapping'] = 'mapping'\n",
    "\n",
    "# Copy global CRS-related attributes\n",
    "ds.attrs['proj4'] = bedmachine_original.attrs['proj4']\n",
    "ds.attrs['Projection'] = bedmachine_original.attrs['Projection']\n",
    "\n",
    "# Add crs and crs_wkt\n",
    "ds.attrs['crs'] = 'EPSG:3031'\n",
    "crs = CRS.from_epsg(3031)\n",
    "ds.attrs['crs_wkt'] = crs.to_wkt()\n",
    "\n",
    "# View ds metadata\n",
    "ds"
   ]
  },
  {
   "cell_type": "markdown",
   "id": "e2a15be8-8272-4871-a4e9-28c1af97adbc",
   "metadata": {},
   "source": [
    "## Export to chucked netcdf"
   ]
  },
  {
   "cell_type": "code",
   "execution_count": null,
   "id": "191daac3-3c87-478b-9167-5190b2d6bfc3",
   "metadata": {},
   "outputs": [],
   "source": [
    "# Export with chunking + compression\n",
    "ds.to_netcdf(\n",
    "    'output/subglacial_hydropotential_Antarctica.nc',\n",
    "    encoding={\n",
    "        'hydropotential': {\n",
    "            '_FillValue': -9999.0,\n",
    "            'dtype': 'float32',\n",
    "            'zlib': True,\n",
    "            'complevel': 4,\n",
    "            'chunksizes': (500, 500)\n",
    "        }\n",
    "    }\n",
    ")"
   ]
  },
  {
   "cell_type": "markdown",
   "id": "d7af32a5-6175-4a7f-b6b2-d3f067ab05e4",
   "metadata": {},
   "source": [
    "## Validate dataset after export\n",
    "First check climate and forecast conventions, then importing exported file, viewing metadata and plotting data."
   ]
  },
  {
   "cell_type": "code",
   "execution_count": null,
   "id": "80a6dfbe-b1ee-4a1d-9411-c47bd8657ec6",
   "metadata": {},
   "outputs": [],
   "source": [
    "!conda install -c conda-forge cfchecker --quiet"
   ]
  },
  {
   "cell_type": "code",
   "execution_count": null,
   "id": "d1e867c7-0847-4d89-88fc-5670a80cf2fe",
   "metadata": {},
   "outputs": [],
   "source": [
    "!cfchecks output/subglacial_hydropotential_Antarctica.nc"
   ]
  },
  {
   "cell_type": "code",
   "execution_count": null,
   "id": "40b51100-9be0-4e3a-b3ee-92bc31c980b8",
   "metadata": {},
   "outputs": [],
   "source": [
    "ds_imported = xr.open_dataset('output/subglacial_hydropotential_Antarctica.nc')\n",
    "ds_imported"
   ]
  },
  {
   "cell_type": "code",
   "execution_count": null,
   "id": "90faed20-a6ad-4fab-8a24-093250cd896a",
   "metadata": {},
   "outputs": [],
   "source": [
    "ds_imported.info()"
   ]
  },
  {
   "cell_type": "code",
   "execution_count": null,
   "id": "436f2baa-f999-464b-ad31-5ef9160d2e6d",
   "metadata": {},
   "outputs": [],
   "source": [
    "plt.figure()\n",
    "ds_imported['hydropotential'].plot(vmin=0, vmax=40e3)\n",
    "plt.show()"
   ]
  },
  {
   "cell_type": "code",
   "execution_count": null,
   "id": "c93f4770-57db-4dc4-96f2-2dac518e3791",
   "metadata": {},
   "outputs": [],
   "source": [
    "# Opened netcdf in Panoply to ensure compatibility"
   ]
  },
  {
   "cell_type": "markdown",
   "id": "40c80c6a-2e4d-4293-a670-36171c21d07b",
   "metadata": {},
   "source": [
    "## Export to Zarr"
   ]
  },
  {
   "cell_type": "code",
   "execution_count": null,
   "id": "a6ad75e4-fbc1-41db-83bf-8fc2dc72129d",
   "metadata": {},
   "outputs": [],
   "source": [
    "# Chunk for performance (tune based on size and use case)\n",
    "ds = ds.chunk({'x': 500, 'y': 500})\n",
    "\n",
    "# Write to a Zarr store\n",
    "ds.to_zarr('output/subglacial_hydropotential_Antarctica.zarr', mode='w',  consolidated=True)"
   ]
  },
  {
   "cell_type": "code",
   "execution_count": null,
   "id": "7a237e47-ec52-441a-a9b4-8b577db4eba9",
   "metadata": {},
   "outputs": [],
   "source": [
    "# Zip zarr files for upload to Zenodo\n",
    "shutil.make_archive(\n",
    "    'output/subglacial_hydropotential_Antarctica.zarr',  # output path (no zip extension)\n",
    "    'zip',\n",
    "    'output/subglacial_hydropotential_Antarctica.zarr'   # source\n",
    ")"
   ]
  },
  {
   "cell_type": "code",
   "execution_count": null,
   "id": "e549abde-4bb6-4824-a614-14d6ec763e10",
   "metadata": {},
   "outputs": [],
   "source": [
    "!rm -r 'output/subglacial_hydropotential_Antarctica.zarr'"
   ]
  },
  {
   "cell_type": "markdown",
   "id": "03895bd4-d4f8-4642-ad0a-e0bb7c19a91c",
   "metadata": {},
   "source": [
    "## Validate dataset after export\n",
    "Unzip zip file of Zarr store, then import data, view metadata, plot data."
   ]
  },
  {
   "cell_type": "code",
   "execution_count": null,
   "id": "4b70fdc4-c8e2-4a8e-8a55-963f3cd1d922",
   "metadata": {},
   "outputs": [],
   "source": [
    "# Extract the zip file\n",
    "with zipfile.ZipFile('output/subglacial_hydropotential_Antarctica.zarr.zip', 'r') as zip_ref:\n",
    "    zip_ref.extractall('output/subglacial_hydropotential_Antarctica.zarr')\n",
    "\n",
    "# Now open normally\n",
    "ds_imported = xr.open_zarr('output/subglacial_hydropotential_Antarctica.zarr', consolidated=True)\n",
    "ds_imported"
   ]
  },
  {
   "cell_type": "code",
   "execution_count": null,
   "id": "63474497-7fda-4366-ab56-b12102e44d8f",
   "metadata": {},
   "outputs": [],
   "source": [
    "ds_imported.info()"
   ]
  },
  {
   "cell_type": "code",
   "execution_count": null,
   "id": "d97be8fc-5838-424c-8ba1-480d9a845b2f",
   "metadata": {},
   "outputs": [],
   "source": [
    "plt.figure()\n",
    "ds_imported['hydropotential'].plot(vmin=0, vmax=40e3)\n",
    "plt.show()"
   ]
  },
  {
   "cell_type": "code",
   "execution_count": null,
   "id": "d035f75c-bc46-4186-991b-2f685bb243b5",
   "metadata": {},
   "outputs": [],
   "source": [
    "# Remove Zarr store folder\n",
    "!rm -r 'output/subglacial_hydropotential_Antarctica.zarr'"
   ]
  },
  {
   "cell_type": "markdown",
   "id": "e14e8586-daf8-49bb-8050-c1f0fa04759b",
   "metadata": {},
   "source": [
    "# Remove temporary files\n",
    "Files are first downloaded locally to upload to Zenodo repo."
   ]
  },
  {
   "cell_type": "code",
   "execution_count": null,
   "id": "268716a7-84d7-44b3-8056-d8a595164852",
   "metadata": {},
   "outputs": [],
   "source": [
    "!rm 'output/subglacial_hydropotential_Antarctica.nc'"
   ]
  },
  {
   "cell_type": "code",
   "execution_count": null,
   "id": "14cee127-1959-4c6d-9f74-3d467640727c",
   "metadata": {},
   "outputs": [],
   "source": [
    "!rm 'output/subglacial_hydropotential_Antarctica.zarr.zip'"
   ]
  },
  {
   "cell_type": "markdown",
   "id": "f6f739ee-72dd-4657-b653-8fd63144264b",
   "metadata": {},
   "source": [
    "# References\n",
    "\n",
    "Morlighem, M., Rignot, E., Binder, T., Blankenship, D., Drews, R., Eagles, G., et al. (2020). Deep glacial troughs and stabilizing ridges unveiled beneath the margins of the Antarctic ice sheet. Nature Geoscience, 13(2), 132–137. https://doi.org/10.1038/s41561-019-0510-8\n",
    "\n",
    "Morlighem, M. (2022). MEaSUREs BedMachine Antarctica. (NSIDC-0756, Version 3). [Data Set]. Boulder, Colorado USA. NASA National Snow and Ice Data Center Distributed Active Archive Center. https://doi.org/10.5067/FPSU0V1MWUB6. Date Accessed 05-19-2025.\n",
    "\n",
    "Sauthoff, W., & Siegfried, M. R. (2025). Antarctic subglacial hydropotential [Data set]. Zenodo. [DOI available after initial release]\n",
    "\n",
    "Shreve, R. L. (1972). Movement of Water in Glaciers. _Journal of Glaciology_, 11(62), 205–214. https://doi.org/10.3189/S002214300002219X"
   ]
  }
 ],
 "metadata": {
  "kernelspec": {
   "display_name": "Python 3 (ipykernel)",
   "language": "python",
   "name": "python3"
  },
  "language_info": {
   "codemirror_mode": {
    "name": "ipython",
    "version": 3
   },
   "file_extension": ".py",
   "mimetype": "text/x-python",
   "name": "python",
   "nbconvert_exporter": "python",
   "pygments_lexer": "ipython3",
   "version": "3.11.11"
  }
 },
 "nbformat": 4,
 "nbformat_minor": 5
}
