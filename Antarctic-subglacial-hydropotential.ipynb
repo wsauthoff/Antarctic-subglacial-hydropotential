{
 "cells": [
  {
   "cell_type": "markdown",
   "id": "efebafdf-052e-494a-a484-df11e624d64c",
   "metadata": {},
   "source": [
    "Notebook uses BedMachine Antarctica ice-surface and bed topographies to calculate and export subglacial hydropotential using the Shreve (1972) hydropotential equation.\n",
    "\n",
    "Written 2025/05/19 by W. Sauthoff (wsauthoff.github.io) and M. R. Siegfried (mrsiegfried.github.io)."
   ]
  },
  {
   "cell_type": "markdown",
   "id": "2882be40-6fe2-4c92-8aad-a3ec56869d3c",
   "metadata": {},
   "source": [
    "# Setup computing environment"
   ]
  },
  {
   "cell_type": "code",
   "execution_count": null,
   "id": "2cab3523-6c42-4eaf-aaf8-87982e1f7fdb",
   "metadata": {},
   "outputs": [],
   "source": [
    "# Import packages\n",
    "import earthaccess\n",
    "import fsspec\n",
    "import matplotlib.pyplot as plt\n",
    "import numpy as np\n",
    "from pyproj import CRS\n",
    "import shutil\n",
    "import xarray as xr\n",
    "import zarr\n",
    "\n",
    "%matplotlib widget"
   ]
  },
  {
   "cell_type": "markdown",
   "id": "ea9cdd94-4d3c-486b-89e3-b1280cc1a623",
   "metadata": {},
   "source": [
    "# Access data"
   ]
  },
  {
   "cell_type": "code",
   "execution_count": null,
   "id": "b20178a3-5275-4236-8ed8-4f492bec89d7",
   "metadata": {},
   "outputs": [],
   "source": [
    "# Direct-access stream BedMachine Antarctica bed and surface topography v3 (Morlighem et al., 2020; Morlighem, 2022)\n",
    "# https://nsidc.org/data/NSIDC-0756\n",
    "try:\n",
    "    results = earthaccess.search_data(\n",
    "        doi='10.5067/FPSU0V1MWUB6',\n",
    "        cloud_hosted=True,\n",
    "        # bounding_box=(1, -89, -1, -89)\n",
    "    )\n",
    "    \n",
    "    if not results:\n",
    "        raise ValueError('No datasets found matching the search criteria')\n",
    "        \n",
    "    # Open data granules as s3 files to stream\n",
    "    files = earthaccess.open(results)\n",
    "    \n",
    "    # Check if files list is empty\n",
    "    if not files:\n",
    "        raise FileNotFoundError('No files were opened from the search results')\n",
    "        \n",
    "    # Check if first file exists/is valid\n",
    "    if isinstance(files[0], FileNotFoundError):\n",
    "        raise FileNotFoundError(f'Could not access file: {files[0]}')\n",
    "        \n",
    "    # Print file name to ensure expected dataset\n",
    "    print(f'Attempting to open: {files[0]}')\n",
    "    \n",
    "    # Open file into xarray dataset\n",
    "    bedmachine_original = xr.open_dataset(files[0], engine='netcdf4')\n",
    "    print('Dataset successfully loaded')\n",
    "\n",
    "except FileNotFoundError as e:\n",
    "    print(f'File access error: {e}')\n",
    "except ValueError as e:\n",
    "    print(f'Search error: {e}')\n",
    "except Exception as e:\n",
    "    print(f'Unexpected error: {e}')\n",
    "\n",
    "'''\n",
    "Note: Search error: can only read bytes or file-like objects with engine='scipy' or 'h5netcdf' seems to indicate FileNotFoundError\n",
    "'''"
   ]
  },
  {
   "cell_type": "code",
   "execution_count": null,
   "id": "a5300263-ab16-41f9-b7ce-1a743a9bf98c",
   "metadata": {},
   "outputs": [],
   "source": [
    "# Open local copy of file if streaming fails\n",
    "bedmachine_original = xr.open_dataset('/home/jovyan/temp/BedMachineAntarctica-v3.nc')\n",
    "bedmachine_original"
   ]
  },
  {
   "cell_type": "markdown",
   "id": "713ada33-5f16-4840-8acc-8a33d41fd77a",
   "metadata": {},
   "source": [
    "# Data analysis\n",
    "Use Shreve (1972) equation to calculate hydropotential using bed elevations and ice-surface elevations (less firn depth to get ice mass)."
   ]
  },
  {
   "cell_type": "code",
   "execution_count": null,
   "id": "434314d1-3eea-465d-a245-cff1d8361ae6",
   "metadata": {
    "tags": []
   },
   "outputs": [],
   "source": [
    "# Step 1: Compute hydropotential\n",
    "\n",
    "# Use BedMachine bed topography for Zbed and surface topography (less firn) for Zsurf\n",
    "\n",
    "# Define densities (rho) of ice and water\n",
    "rho_ice = 917\n",
    "rho_water = 997\n",
    "\n",
    "# Calculate hydropotential\n",
    "subglacial_hydropotential_kPa = (9.8 * ((rho_ice*(bedmachine_original['surface']-bedmachine_original['firn'])) + (rho_water-rho_ice)*bedmachine_original['bed'])) / 1e3\n",
    "\n",
    "# Display xarray.Dataset metadata\n",
    "subglacial_hydropotential_kPa"
   ]
  },
  {
   "cell_type": "code",
   "execution_count": null,
   "id": "6ca5f633-2dbd-4ff9-bddd-e8b5a778ba6f",
   "metadata": {},
   "outputs": [],
   "source": [
    "# Plot results\n",
    "plt.figure()\n",
    "subglacial_hydropotential_kPa.plot()\n",
    "plt.show()"
   ]
  },
  {
   "cell_type": "code",
   "execution_count": null,
   "id": "c69c2bc4-4e6e-4f84-a9fb-e66265935373",
   "metadata": {},
   "outputs": [],
   "source": [
    "# Step 2: Mask to grounded ice only\n",
    "\n",
    "# Create a mask where values == 2 (grounded ice)\n",
    "grounded_ice_mask = (bedmachine_original['mask'] == 2)\n",
    "\n",
    "# Apply the mask to subglacial_hydropotential_kPa\n",
    "subglacial_hydropotential_kPa = subglacial_hydropotential_kPa.where(grounded_ice_mask)\n",
    "\n",
    "# Display xarray.Dataset metadata to ensure edges have become nan's\n",
    "subglacial_hydropotential_kPa"
   ]
  },
  {
   "cell_type": "markdown",
   "id": "c0ad5068-1427-4312-a9d6-ce1cbef5e972",
   "metadata": {},
   "source": [
    "# Export hydropotental dataset"
   ]
  },
  {
   "cell_type": "code",
   "execution_count": null,
   "id": "7d9634b4-14c8-4682-808b-2cb64fdf7bed",
   "metadata": {},
   "outputs": [],
   "source": [
    "# Add metadata\n",
    "subglacial_hydropotential_kPa.attrs = {\n",
    "    'long_name': 'hydropotential',\n",
    "    'units': 'kPa',\n",
    "    'ice_density' : 917.0,\n",
    "    'ice_density_units': 'kg m-3',\n",
    "    'freshwater_density' : 997.0,\n",
    "    'freshwater_density_units': 'kg m-3',\n",
    "    'references': 'dois: 10.3189/S002214300002219X, 10.1038/s41561-019-0510-8, 10.5067/FPSU0V1MWUB6'\n",
    "}\n",
    "\n",
    "# Convert to dataset for chucking with Zarr\n",
    "ds = subglacial_hydropotential_kPa.to_dataset(name='hydropotential')\n",
    "\n",
    "# Add metadata\n",
    "ds.attrs = {\n",
    "    'conventions': 'CF-1.8',\n",
    "    'title': 'Antarctic subglacial hydropotential derived from BedMachine Antarctica',\n",
    "    'description': 'Antarctic subglacial gridded hydropotential calculated using Shreve (1972) equation using BedMachine Antarctica v3.4 bed and ice topographies and firn air content (Morlighem et al., 2020; Morlighem, 2022).',\n",
    "    'history': 'Created 2025-05-19',\n",
    "    # 'identifier_product_DOI': 'doi:',  # Awaiting first version release for Zenodo to mint DOI\n",
    "    # 'citation': 'Sauthoff, W. and Siegfried, M. R. (2025). Antarctic subglacial hydropotential [Data set]. Zenodo. https://doi.org/XX',\n",
    "    'license': 'CC BY-SA 4.0'\n",
    "}\n",
    "\n",
    "# Copy mapping variable into new dataset\n",
    "ds['mapping'] = bedmachine_original['mapping']\n",
    "\n",
    "# Link the mapping variable to your variable\n",
    "ds['hydropotential'].attrs['grid_mapping'] = 'mapping'\n",
    "\n",
    "# Copy global CRS-related attributes\n",
    "ds.attrs['proj4'] = bedmachine_original.attrs['proj4']\n",
    "ds.attrs['Projection'] = bedmachine_original.attrs['Projection']\n",
    "\n",
    "# Add crs and crs_wkt\n",
    "ds.attrs['crs'] = 'EPSG:3031'\n",
    "crs = CRS.from_epsg(3031)\n",
    "ds.attrs['crs_wkt'] = crs.to_wkt()\n",
    "\n",
    "# View ds metadata\n",
    "ds"
   ]
  },
  {
   "cell_type": "markdown",
   "id": "e2a15be8-8272-4871-a4e9-28c1af97adbc",
   "metadata": {},
   "source": [
    "## Export to chucked netcdf"
   ]
  },
  {
   "cell_type": "code",
   "execution_count": null,
   "id": "191daac3-3c87-478b-9167-5190b2d6bfc3",
   "metadata": {},
   "outputs": [],
   "source": [
    "# Export with chunking + compression\n",
    "ds.to_netcdf(\n",
    "    '/home/jovyan/temp/Antarctic_hydropotential.nc',\n",
    "    encoding={\n",
    "        'hydropotential': {\n",
    "            '_FillValue': -9999.0,\n",
    "            'dtype': 'float32',\n",
    "            'zlib': True,\n",
    "            'complevel': 4,\n",
    "            'chunksizes': (500, 500)\n",
    "        }\n",
    "    }\n",
    ")"
   ]
  },
  {
   "cell_type": "markdown",
   "id": "d7af32a5-6175-4a7f-b6b2-d3f067ab05e4",
   "metadata": {},
   "source": [
    "## Validate dataset after export"
   ]
  },
  {
   "cell_type": "code",
   "execution_count": null,
   "id": "80a6dfbe-b1ee-4a1d-9411-c47bd8657ec6",
   "metadata": {},
   "outputs": [],
   "source": [
    "conda install -c conda-forge cfchecker  --quiet"
   ]
  },
  {
   "cell_type": "code",
   "execution_count": null,
   "id": "d1e867c7-0847-4d89-88fc-5670a80cf2fe",
   "metadata": {},
   "outputs": [],
   "source": [
    "!cfchecks /home/jovyan/temp/Antarctic_hydropotential.nc"
   ]
  },
  {
   "cell_type": "code",
   "execution_count": null,
   "id": "6797c232-120f-42a9-b1f0-93916e8c7a40",
   "metadata": {},
   "outputs": [],
   "source": [
    "print(ds['mapping'].dims)\n",
    "print(ds['mapping'].shape)\n",
    "print(ds['mapping'].attrs)"
   ]
  },
  {
   "cell_type": "code",
   "execution_count": null,
   "id": "da7a7494-1192-4ed0-b1aa-3272bcc4e11c",
   "metadata": {},
   "outputs": [],
   "source": [
    "import numpy as np\n",
    "ds = ds.drop_vars('mapping', errors='ignore')\n",
    "mapping_attrs = bedmachine_original['mapping'].attrs\n",
    "ds['mapping'] = xr.DataArray(np.array(0, dtype=np.int32), attrs=mapping_attrs)"
   ]
  },
  {
   "cell_type": "code",
   "execution_count": null,
   "id": "55a2fd39-80d0-4644-b7c7-959135e8ab5d",
   "metadata": {},
   "outputs": [],
   "source": [
    "# Export with chunking + compression\n",
    "ds.to_netcdf(\n",
    "    '/home/jovyan/temp/Antarctic_hydropotential.nc',\n",
    "    encoding={\n",
    "        'hydropotential': {\n",
    "            'zlib': True,\n",
    "            'complevel': 4,\n",
    "            'chunksizes': (500, 500)\n",
    "        }\n",
    "    }\n",
    ")"
   ]
  },
  {
   "cell_type": "code",
   "execution_count": null,
   "id": "d158ab5a-4ec4-4d00-80d5-e58d5426c3e1",
   "metadata": {},
   "outputs": [],
   "source": [
    "!cfchecks /home/jovyan/temp/Antarctic_hydropotential.nc"
   ]
  },
  {
   "cell_type": "code",
   "execution_count": null,
   "id": "7ae20de3-79c5-47bd-b44f-31b1953fc748",
   "metadata": {
    "scrolled": true
   },
   "outputs": [],
   "source": [
    "conda install -c conda-forge netcdf4  --quiet"
   ]
  },
  {
   "cell_type": "code",
   "execution_count": null,
   "id": "2eaa01a9-d03a-48c1-9822-7a4b22d2f079",
   "metadata": {},
   "outputs": [],
   "source": [
    "!ncdump -h /home/jovyan/temp/Antarctic_hydropotential.nc"
   ]
  },
  {
   "cell_type": "code",
   "execution_count": null,
   "id": "c93f4770-57db-4dc4-96f2-2dac518e3791",
   "metadata": {},
   "outputs": [],
   "source": [
    "# Opened in QGIS and Panoply to ensure compatibility"
   ]
  },
  {
   "cell_type": "markdown",
   "id": "40c80c6a-2e4d-4293-a670-36171c21d07b",
   "metadata": {},
   "source": [
    "## Export to Zarr"
   ]
  },
  {
   "cell_type": "code",
   "execution_count": null,
   "id": "a6ad75e4-fbc1-41db-83bf-8fc2dc72129d",
   "metadata": {},
   "outputs": [],
   "source": [
    "# Chunk for performance (tune based on size and use case)\n",
    "ds = ds.chunk({'x': 500, 'y': 500})\n",
    "\n",
    "# Write to a Zarr store\n",
    "ds.to_zarr('/home/jovyan/temp/Antarctic_hydropotential.zarr', mode='w')"
   ]
  },
  {
   "cell_type": "code",
   "execution_count": null,
   "id": "c7239264-2fc5-4b78-a5fa-fc989260fba9",
   "metadata": {},
   "outputs": [],
   "source": [
    "# ds = xr.open_zarr('/home/jovyan/temp/Antarctic_hydropotential.zarr', consolidated=False)\n",
    "# ds.to_zarr('/home/jovyan/temp/Antarctic_hydropotential.zarr', mode=\"w\", consolidated=True)"
   ]
  },
  {
   "cell_type": "code",
   "execution_count": null,
   "id": "a9ae2a8c-4179-4e73-a2df-7e545d236bab",
   "metadata": {},
   "outputs": [],
   "source": [
    "# Consolidate metadata before zipping\n",
    "zarr.consolidate_metadata('/home/jovyan/temp/Antarctic_hydropotential.zarr')\n",
    "\n",
    "# Zip zarr files for upload to Zenodo\n",
    "shutil.make_archive(\n",
    "    '/home/jovyan/temp/Antarctic_hydropotential.zarr',  # output path (no zip extension)\n",
    "    'zip',\n",
    "    '/home/jovyan/temp/Antarctic_hydropotential.zarr'   # source\n",
    ")"
   ]
  },
  {
   "cell_type": "markdown",
   "id": "03895bd4-d4f8-4642-ad0a-e0bb7c19a91c",
   "metadata": {},
   "source": [
    "## Validate dataset after export"
   ]
  },
  {
   "cell_type": "code",
   "execution_count": null,
   "id": "27c6a291-3de5-47e7-847f-6802b586870b",
   "metadata": {},
   "outputs": [],
   "source": [
    "ds_imported = xr.open_zarr('/home/jovyan/temp/Antarctic_hydropotential.zarr', consolidated=True)\n",
    "ds_imported"
   ]
  },
  {
   "cell_type": "code",
   "execution_count": null,
   "id": "63474497-7fda-4366-ab56-b12102e44d8f",
   "metadata": {},
   "outputs": [],
   "source": [
    "ds_imported.info()"
   ]
  },
  {
   "cell_type": "code",
   "execution_count": null,
   "id": "d97be8fc-5838-424c-8ba1-480d9a845b2f",
   "metadata": {},
   "outputs": [],
   "source": [
    "plt.figure()\n",
    "ds_imported['hydropotential'].plot(vmin=0, vmax=40e3)\n",
    "plt.show()"
   ]
  },
  {
   "cell_type": "code",
   "execution_count": null,
   "id": "d6d9ba4d-a2e6-4ae5-a66d-20fa443ff86e",
   "metadata": {},
   "outputs": [],
   "source": [
    "print(ds_imported.coords)\n",
    "print(ds_imported.attrs.get(\"crs\"))\n",
    "print(ds_imported.attrs.get(\"proj4\"))\n",
    "print(ds_imported[\"mapping\"].attrs)\n",
    "print(ds_imported[\"hydropotential\"].attrs)"
   ]
  },
  {
   "cell_type": "code",
   "execution_count": null,
   "id": "8bbf793c-e036-46ab-b369-d176bb4eab01",
   "metadata": {},
   "outputs": [],
   "source": [
    "print(ds_imported.chunks)"
   ]
  },
  {
   "cell_type": "code",
   "execution_count": null,
   "id": "193807ba-910f-43f5-9c5c-1ac67542d6e7",
   "metadata": {},
   "outputs": [],
   "source": [
    "# Open the ZIP file to ensure data reads in as expected\n",
    "with open(\"/home/jovyan/temp/Antarctic_hydropotential.zarr.zip\", \"rb\") as f:\n",
    "    # Use fsspec's zip filesystem with that file object\n",
    "    fs = fsspec.filesystem(\"zip\", fo=f)\n",
    "    \n",
    "    # Since the Zarr store is at the root of the zip, root path is just \"\"\n",
    "    mapper = fs.get_mapper(\"\")\n",
    "    \n",
    "    ds = xr.open_zarr(mapper, consolidated=True)\n",
    "\n",
    "# View dataset metadata\n",
    "ds"
   ]
  },
  {
   "cell_type": "markdown",
   "id": "c9605b18-ba9c-465f-b177-0f8b8f7d6635",
   "metadata": {},
   "source": [
    "Exported and validated data file saved to Zenodo repository (Sauthoff & Siegfriend, 2025). "
   ]
  },
  {
   "cell_type": "markdown",
   "id": "f6f739ee-72dd-4657-b653-8fd63144264b",
   "metadata": {},
   "source": [
    "# References\n",
    "\n",
    "Morlighem, M., Rignot, E., Binder, T., Blankenship, D., Drews, R., Eagles, G., et al. (2020). Deep glacial troughs and stabilizing ridges unveiled beneath the margins of the Antarctic ice sheet. Nature Geoscience, 13(2), 132–137. https://doi.org/10.1038/s41561-019-0510-8\n",
    "\n",
    "Morlighem, M. (2022). MEaSUREs BedMachine Antarctica. (NSIDC-0756, Version 3). [Data Set]. Boulder, Colorado USA. NASA National Snow and Ice Data Center Distributed Active Archive Center. https://doi.org/10.5067/FPSU0V1MWUB6. Date Accessed 05-19-2025.\n",
    "\n",
    "Sauthoff, W., Siegfried, M. R. (2025). Antarctic subglacial hydropotential [Data set]. Zenodo. https://doi.org/XX\n",
    "\n",
    "Shreve, R. L. (1972). Movement of Water in Glaciers. Journal of Glaciology, 11(62), 205–214. https://doi.org/10.3189/S002214300002219X"
   ]
  },
  {
   "cell_type": "code",
   "execution_count": null,
   "id": "d010320d-000f-40ee-a679-aa9bb7421b24",
   "metadata": {},
   "outputs": [],
   "source": []
  }
 ],
 "metadata": {
  "kernelspec": {
   "display_name": "Python 3 (ipykernel)",
   "language": "python",
   "name": "python3"
  },
  "language_info": {
   "codemirror_mode": {
    "name": "ipython",
    "version": 3
   },
   "file_extension": ".py",
   "mimetype": "text/x-python",
   "name": "python",
   "nbconvert_exporter": "python",
   "pygments_lexer": "ipython3",
   "version": "3.11.12"
  }
 },
 "nbformat": 4,
 "nbformat_minor": 5
}
